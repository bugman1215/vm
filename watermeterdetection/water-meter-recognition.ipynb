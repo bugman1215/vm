{
 "cells": [
  {
   "cell_type": "code",
   "execution_count": 5,
   "metadata": {
    "_cell_guid": "b1076dfc-b9ad-4769-8c92-a6c4dae69d19",
    "_uuid": "8f2839f25d086af736a60e9eeb907d3b93b6e0e5",
    "execution": {
     "iopub.execute_input": "2023-02-08T13:44:47.769761Z",
     "iopub.status.busy": "2023-02-08T13:44:47.768785Z",
     "iopub.status.idle": "2023-02-08T13:44:47.776649Z",
     "shell.execute_reply": "2023-02-08T13:44:47.775467Z",
     "shell.execute_reply.started": "2023-02-08T13:44:47.769717Z"
    }
   },
   "outputs": [
    {
     "ename": "ModuleNotFoundError",
     "evalue": "No module named 'pandas'",
     "output_type": "error",
     "traceback": [
      "\u001b[0;31m---------------------------------------------------------------------------\u001b[0m",
      "\u001b[0;31mModuleNotFoundError\u001b[0m                       Traceback (most recent call last)",
      "Cell \u001b[0;32mIn[5], line 2\u001b[0m\n\u001b[1;32m      1\u001b[0m \u001b[38;5;28;01mimport\u001b[39;00m \u001b[38;5;21;01mnumpy\u001b[39;00m \u001b[38;5;28;01mas\u001b[39;00m \u001b[38;5;21;01mnp\u001b[39;00m \n\u001b[0;32m----> 2\u001b[0m \u001b[38;5;28;01mimport\u001b[39;00m \u001b[38;5;21;01mpandas\u001b[39;00m \u001b[38;5;28;01mas\u001b[39;00m \u001b[38;5;21;01mpd\u001b[39;00m \n\u001b[1;32m      3\u001b[0m \u001b[38;5;28;01mimport\u001b[39;00m \u001b[38;5;21;01mos\u001b[39;00m\u001b[38;5;241m,\u001b[39m \u001b[38;5;21;01mjson\u001b[39;00m\u001b[38;5;241m,\u001b[39m \u001b[38;5;21;01mre\u001b[39;00m\u001b[38;5;241m,\u001b[39m \u001b[38;5;21;01mcv2\u001b[39;00m\n\u001b[1;32m      4\u001b[0m \u001b[38;5;28;01mimport\u001b[39;00m \u001b[38;5;21;01mtensorflow\u001b[39;00m \u001b[38;5;28;01mas\u001b[39;00m \u001b[38;5;21;01mtf\u001b[39;00m\n",
      "\u001b[0;31mModuleNotFoundError\u001b[0m: No module named 'pandas'"
     ]
    }
   ],
   "source": [
    "import numpy as np \n",
    "import pandas as pd \n",
    "import os, json, re, cv2\n",
    "import tensorflow as tf\n",
    "from tensorflow import keras\n",
    "from tensorflow.keras import layers\n",
    "from tensorflow.keras.preprocessing.image import ImageDataGenerator\n",
    "from sklearn.model_selection import train_test_split\n",
    "from tensorflow.keras.preprocessing import image_dataset_from_directory\n",
    "import decimal\n",
    "import shutil\n",
    "import matplotlib.pyplot as plt\n",
    "from PIL import Image, ImageOps\n",
    "from tqdm import tqdm"
   ]
  },
  {
   "cell_type": "markdown",
   "metadata": {},
   "source": [
    "# Read Data"
   ]
  },
  {
   "cell_type": "code",
   "execution_count": null,
   "metadata": {
    "execution": {
     "iopub.execute_input": "2023-02-08T13:44:51.803703Z",
     "iopub.status.busy": "2023-02-08T13:44:51.803297Z",
     "iopub.status.idle": "2023-02-08T13:44:51.849784Z",
     "shell.execute_reply": "2023-02-08T13:44:51.848547Z",
     "shell.execute_reply.started": "2023-02-08T13:44:51.803670Z"
    }
   },
   "outputs": [],
   "source": [
    "data = pd.read_csv('../input/yandextoloka-water-meters-dataset/WaterMeters/data.csv')\n",
    "images_folder = '../input/yandextoloka-water-meters-dataset/WaterMeters/images'\n",
    "masks_folder = '../input/yandextoloka-water-meters-dataset/WaterMeters/masks'\n",
    "collage_folder = '../input/yandextoloka-water-meters-dataset/WaterMeters/collage'"
   ]
  },
  {
   "cell_type": "code",
   "execution_count": null,
   "metadata": {
    "execution": {
     "iopub.execute_input": "2023-02-08T13:44:55.510702Z",
     "iopub.status.busy": "2023-02-08T13:44:55.510151Z",
     "iopub.status.idle": "2023-02-08T13:44:55.528813Z",
     "shell.execute_reply": "2023-02-08T13:44:55.527095Z",
     "shell.execute_reply.started": "2023-02-08T13:44:55.510642Z"
    }
   },
   "outputs": [],
   "source": [
    "data.location[0]"
   ]
  },
  {
   "cell_type": "code",
   "execution_count": 5,
   "metadata": {
    "execution": {
     "iopub.execute_input": "2023-02-08T13:45:00.382340Z",
     "iopub.status.busy": "2023-02-08T13:45:00.381507Z",
     "iopub.status.idle": "2023-02-08T13:45:00.389296Z",
     "shell.execute_reply": "2023-02-08T13:45:00.388086Z",
     "shell.execute_reply.started": "2023-02-08T13:45:00.382296Z"
    }
   },
   "outputs": [],
   "source": [
    "# Create NumPy arrays for containing images\n",
    "y = np.zeros((1244, 256, 256), dtype='float32')\n",
    "X = np.zeros((1244, 256, 256, 3), dtype='float32')"
   ]
  },
  {
   "cell_type": "code",
   "execution_count": 6,
   "metadata": {
    "execution": {
     "iopub.execute_input": "2023-02-08T13:45:04.263683Z",
     "iopub.status.busy": "2023-02-08T13:45:04.263281Z",
     "iopub.status.idle": "2023-02-08T13:46:13.896199Z",
     "shell.execute_reply": "2023-02-08T13:46:13.894871Z",
     "shell.execute_reply.started": "2023-02-08T13:45:04.263651Z"
    }
   },
   "outputs": [
    {
     "name": "stderr",
     "output_type": "stream",
     "text": [
      "1244it [01:08, 18.13it/s]"
     ]
    },
    {
     "name": "stdout",
     "output_type": "stream",
     "text": [
      "Done\n"
     ]
    },
    {
     "name": "stderr",
     "output_type": "stream",
     "text": [
      "\n"
     ]
    }
   ],
   "source": [
    "# Read all images/store them is our arrays\n",
    "for i, image, mask in tqdm(zip(range(1244), os.listdir(images_folder), os.listdir(masks_folder))):\n",
    "    dir_img = os.path.join(images_folder, image)\n",
    "    dir_mask = os.path.join(masks_folder, mask)\n",
    "    \n",
    "    # Resize \n",
    "    img = cv2.imread(dir_img)\n",
    "    img = cv2.resize(img, (256, 256))\n",
    "    \n",
    "    # Add to train data\n",
    "    X[i] = img.astype('float32')\n",
    "    \n",
    "    # Resize\n",
    "    mask = cv2.imread(dir_mask)\n",
    "    mask = cv2.resize(mask, (256, 256))\n",
    "    \n",
    "    # Normalize\n",
    "    mask = 1.0 * (mask[:, :, 0] > .1)\n",
    "    \n",
    "    \n",
    "    # Add to val data\n",
    "    y[i] = mask.astype('uint8')\n",
    "\n",
    "print('Done')"
   ]
  },
  {
   "cell_type": "code",
   "execution_count": 7,
   "metadata": {
    "execution": {
     "iopub.execute_input": "2023-02-08T13:50:05.777493Z",
     "iopub.status.busy": "2023-02-08T13:50:05.776921Z",
     "iopub.status.idle": "2023-02-08T13:50:06.383574Z",
     "shell.execute_reply": "2023-02-08T13:50:06.382641Z",
     "shell.execute_reply.started": "2023-02-08T13:50:05.777440Z"
    }
   },
   "outputs": [],
   "source": [
    "# Split data\n",
    "X_train, X_test, y_train, y_test = train_test_split(X, y, test_size=0.2)"
   ]
  },
  {
   "cell_type": "markdown",
   "metadata": {},
   "source": [
    "# Build Model"
   ]
  },
  {
   "cell_type": "code",
   "execution_count": 10,
   "metadata": {
    "execution": {
     "iopub.execute_input": "2023-02-08T13:50:38.354068Z",
     "iopub.status.busy": "2023-02-08T13:50:38.353642Z",
     "iopub.status.idle": "2023-02-08T13:50:38.360913Z",
     "shell.execute_reply": "2023-02-08T13:50:38.359479Z",
     "shell.execute_reply.started": "2023-02-08T13:50:38.354036Z"
    }
   },
   "outputs": [],
   "source": [
    "img_size = (256, 256, 3)\n",
    "num_classes = 2"
   ]
  },
  {
   "cell_type": "code",
   "execution_count": 12,
   "metadata": {
    "execution": {
     "iopub.execute_input": "2023-02-08T14:00:52.863679Z",
     "iopub.status.busy": "2023-02-08T14:00:52.863244Z",
     "iopub.status.idle": "2023-02-08T14:01:25.873954Z",
     "shell.execute_reply": "2023-02-08T14:01:25.872567Z",
     "shell.execute_reply.started": "2023-02-08T14:00:52.863646Z"
    }
   },
   "outputs": [
    {
     "name": "stdout",
     "output_type": "stream",
     "text": [
      "Requirement already satisfied: ipykernel in /opt/conda/lib/python3.7/site-packages (6.15.0)\n",
      "Requirement already satisfied: jupyter-client>=6.1.12 in /opt/conda/lib/python3.7/site-packages (from ipykernel) (7.3.4)\n",
      "Requirement already satisfied: traitlets>=5.1.0 in /opt/conda/lib/python3.7/site-packages (from ipykernel) (5.3.0)\n",
      "Requirement already satisfied: pyzmq>=17 in /opt/conda/lib/python3.7/site-packages (from ipykernel) (23.2.0)\n",
      "Requirement already satisfied: tornado>=6.1 in /opt/conda/lib/python3.7/site-packages (from ipykernel) (6.1)\n",
      "Requirement already satisfied: matplotlib-inline>=0.1 in /opt/conda/lib/python3.7/site-packages (from ipykernel) (0.1.3)\n",
      "Requirement already satisfied: nest-asyncio in /opt/conda/lib/python3.7/site-packages (from ipykernel) (1.5.5)\n",
      "Requirement already satisfied: ipython>=7.23.1 in /opt/conda/lib/python3.7/site-packages (from ipykernel) (7.33.0)\n",
      "Requirement already satisfied: debugpy>=1.0 in /opt/conda/lib/python3.7/site-packages (from ipykernel) (1.6.0)\n",
      "Requirement already satisfied: psutil in /opt/conda/lib/python3.7/site-packages (from ipykernel) (5.9.1)\n",
      "Requirement already satisfied: packaging in /opt/conda/lib/python3.7/site-packages (from ipykernel) (21.3)\n",
      "Requirement already satisfied: setuptools>=18.5 in /opt/conda/lib/python3.7/site-packages (from ipython>=7.23.1->ipykernel) (59.8.0)\n",
      "Requirement already satisfied: prompt-toolkit!=3.0.0,!=3.0.1,<3.1.0,>=2.0.0 in /opt/conda/lib/python3.7/site-packages (from ipython>=7.23.1->ipykernel) (3.0.30)\n",
      "Requirement already satisfied: jedi>=0.16 in /opt/conda/lib/python3.7/site-packages (from ipython>=7.23.1->ipykernel) (0.18.1)\n",
      "Requirement already satisfied: pexpect>4.3 in /opt/conda/lib/python3.7/site-packages (from ipython>=7.23.1->ipykernel) (4.8.0)\n",
      "Requirement already satisfied: pickleshare in /opt/conda/lib/python3.7/site-packages (from ipython>=7.23.1->ipykernel) (0.7.5)\n",
      "Requirement already satisfied: backcall in /opt/conda/lib/python3.7/site-packages (from ipython>=7.23.1->ipykernel) (0.2.0)\n",
      "Requirement already satisfied: pygments in /opt/conda/lib/python3.7/site-packages (from ipython>=7.23.1->ipykernel) (2.12.0)\n",
      "Requirement already satisfied: decorator in /opt/conda/lib/python3.7/site-packages (from ipython>=7.23.1->ipykernel) (5.1.1)\n",
      "Requirement already satisfied: entrypoints in /opt/conda/lib/python3.7/site-packages (from jupyter-client>=6.1.12->ipykernel) (0.4)\n",
      "Requirement already satisfied: python-dateutil>=2.8.2 in /opt/conda/lib/python3.7/site-packages (from jupyter-client>=6.1.12->ipykernel) (2.8.2)\n",
      "Requirement already satisfied: jupyter-core>=4.9.2 in /opt/conda/lib/python3.7/site-packages (from jupyter-client>=6.1.12->ipykernel) (4.10.0)\n",
      "Requirement already satisfied: pyparsing!=3.0.5,>=2.0.2 in /opt/conda/lib/python3.7/site-packages (from packaging->ipykernel) (3.0.9)\n",
      "Requirement already satisfied: parso<0.9.0,>=0.8.0 in /opt/conda/lib/python3.7/site-packages (from jedi>=0.16->ipython>=7.23.1->ipykernel) (0.8.3)\n",
      "Requirement already satisfied: ptyprocess>=0.5 in /opt/conda/lib/python3.7/site-packages (from pexpect>4.3->ipython>=7.23.1->ipykernel) (0.7.0)\n",
      "Requirement already satisfied: wcwidth in /opt/conda/lib/python3.7/site-packages (from prompt-toolkit!=3.0.0,!=3.0.1,<3.1.0,>=2.0.0->ipython>=7.23.1->ipykernel) (0.2.5)\n",
      "Requirement already satisfied: six>=1.5 in /opt/conda/lib/python3.7/site-packages (from python-dateutil>=2.8.2->jupyter-client>=6.1.12->ipykernel) (1.15.0)\n",
      "\u001b[33mWARNING: Running pip as the 'root' user can result in broken permissions and conflicting behaviour with the system package manager. It is recommended to use a virtual environment instead: https://pip.pypa.io/warnings/venv\u001b[0m\u001b[33m\n",
      "\u001b[0m\u001b[33mWARNING: There was an error checking the latest version of pip.\u001b[0m\u001b[33m\n",
      "\u001b[0m"
     ]
    }
   ],
   "source": [
    "!pip install ipykernel"
   ]
  },
  {
   "cell_type": "code",
   "execution_count": 13,
   "metadata": {
    "execution": {
     "iopub.execute_input": "2023-02-08T14:01:25.876805Z",
     "iopub.status.busy": "2023-02-08T14:01:25.876438Z",
     "iopub.status.idle": "2023-02-08T14:01:26.565872Z",
     "shell.execute_reply": "2023-02-08T14:01:26.564545Z",
     "shell.execute_reply.started": "2023-02-08T14:01:25.876769Z"
    }
   },
   "outputs": [
    {
     "name": "stderr",
     "output_type": "stream",
     "text": [
      "2023-02-08 14:01:25.950879: I tensorflow/core/common_runtime/process_util.cc:146] Creating new thread pool with default inter op setting: 2. Tune using inter_op_parallelism_threads for best performance.\n"
     ]
    },
    {
     "name": "stdout",
     "output_type": "stream",
     "text": [
      "Model: \"model\"\n",
      "__________________________________________________________________________________________________\n",
      "Layer (type)                    Output Shape         Param #     Connected to                     \n",
      "==================================================================================================\n",
      "input_1 (InputLayer)            [(None, 256, 256, 3) 0                                            \n",
      "__________________________________________________________________________________________________\n",
      "conv2d (Conv2D)                 (None, 128, 128, 32) 896         input_1[0][0]                    \n",
      "__________________________________________________________________________________________________\n",
      "batch_normalization (BatchNorma (None, 128, 128, 32) 128         conv2d[0][0]                     \n",
      "__________________________________________________________________________________________________\n",
      "activation (Activation)         (None, 128, 128, 32) 0           batch_normalization[0][0]        \n",
      "__________________________________________________________________________________________________\n",
      "activation_1 (Activation)       (None, 128, 128, 32) 0           activation[0][0]                 \n",
      "__________________________________________________________________________________________________\n",
      "separable_conv2d (SeparableConv (None, 128, 128, 64) 2400        activation_1[0][0]               \n",
      "__________________________________________________________________________________________________\n",
      "batch_normalization_1 (BatchNor (None, 128, 128, 64) 256         separable_conv2d[0][0]           \n",
      "__________________________________________________________________________________________________\n",
      "activation_2 (Activation)       (None, 128, 128, 64) 0           batch_normalization_1[0][0]      \n",
      "__________________________________________________________________________________________________\n",
      "separable_conv2d_1 (SeparableCo (None, 128, 128, 64) 4736        activation_2[0][0]               \n",
      "__________________________________________________________________________________________________\n",
      "batch_normalization_2 (BatchNor (None, 128, 128, 64) 256         separable_conv2d_1[0][0]         \n",
      "__________________________________________________________________________________________________\n",
      "max_pooling2d (MaxPooling2D)    (None, 64, 64, 64)   0           batch_normalization_2[0][0]      \n",
      "__________________________________________________________________________________________________\n",
      "conv2d_1 (Conv2D)               (None, 64, 64, 64)   2112        activation[0][0]                 \n",
      "__________________________________________________________________________________________________\n",
      "add (Add)                       (None, 64, 64, 64)   0           max_pooling2d[0][0]              \n",
      "                                                                 conv2d_1[0][0]                   \n",
      "__________________________________________________________________________________________________\n",
      "activation_3 (Activation)       (None, 64, 64, 64)   0           add[0][0]                        \n",
      "__________________________________________________________________________________________________\n",
      "separable_conv2d_2 (SeparableCo (None, 64, 64, 128)  8896        activation_3[0][0]               \n",
      "__________________________________________________________________________________________________\n",
      "batch_normalization_3 (BatchNor (None, 64, 64, 128)  512         separable_conv2d_2[0][0]         \n",
      "__________________________________________________________________________________________________\n",
      "activation_4 (Activation)       (None, 64, 64, 128)  0           batch_normalization_3[0][0]      \n",
      "__________________________________________________________________________________________________\n",
      "separable_conv2d_3 (SeparableCo (None, 64, 64, 128)  17664       activation_4[0][0]               \n",
      "__________________________________________________________________________________________________\n",
      "batch_normalization_4 (BatchNor (None, 64, 64, 128)  512         separable_conv2d_3[0][0]         \n",
      "__________________________________________________________________________________________________\n",
      "max_pooling2d_1 (MaxPooling2D)  (None, 32, 32, 128)  0           batch_normalization_4[0][0]      \n",
      "__________________________________________________________________________________________________\n",
      "conv2d_2 (Conv2D)               (None, 32, 32, 128)  8320        add[0][0]                        \n",
      "__________________________________________________________________________________________________\n",
      "add_1 (Add)                     (None, 32, 32, 128)  0           max_pooling2d_1[0][0]            \n",
      "                                                                 conv2d_2[0][0]                   \n",
      "__________________________________________________________________________________________________\n",
      "activation_5 (Activation)       (None, 32, 32, 128)  0           add_1[0][0]                      \n",
      "__________________________________________________________________________________________________\n",
      "separable_conv2d_4 (SeparableCo (None, 32, 32, 256)  34176       activation_5[0][0]               \n",
      "__________________________________________________________________________________________________\n",
      "batch_normalization_5 (BatchNor (None, 32, 32, 256)  1024        separable_conv2d_4[0][0]         \n",
      "__________________________________________________________________________________________________\n",
      "activation_6 (Activation)       (None, 32, 32, 256)  0           batch_normalization_5[0][0]      \n",
      "__________________________________________________________________________________________________\n",
      "separable_conv2d_5 (SeparableCo (None, 32, 32, 256)  68096       activation_6[0][0]               \n",
      "__________________________________________________________________________________________________\n",
      "batch_normalization_6 (BatchNor (None, 32, 32, 256)  1024        separable_conv2d_5[0][0]         \n",
      "__________________________________________________________________________________________________\n",
      "max_pooling2d_2 (MaxPooling2D)  (None, 16, 16, 256)  0           batch_normalization_6[0][0]      \n",
      "__________________________________________________________________________________________________\n",
      "conv2d_3 (Conv2D)               (None, 16, 16, 256)  33024       add_1[0][0]                      \n",
      "__________________________________________________________________________________________________\n",
      "add_2 (Add)                     (None, 16, 16, 256)  0           max_pooling2d_2[0][0]            \n",
      "                                                                 conv2d_3[0][0]                   \n",
      "__________________________________________________________________________________________________\n",
      "activation_7 (Activation)       (None, 16, 16, 256)  0           add_2[0][0]                      \n",
      "__________________________________________________________________________________________________\n",
      "conv2d_transpose (Conv2DTranspo (None, 16, 16, 256)  590080      activation_7[0][0]               \n",
      "__________________________________________________________________________________________________\n",
      "batch_normalization_7 (BatchNor (None, 16, 16, 256)  1024        conv2d_transpose[0][0]           \n",
      "__________________________________________________________________________________________________\n",
      "activation_8 (Activation)       (None, 16, 16, 256)  0           batch_normalization_7[0][0]      \n",
      "__________________________________________________________________________________________________\n",
      "conv2d_transpose_1 (Conv2DTrans (None, 16, 16, 256)  590080      activation_8[0][0]               \n",
      "__________________________________________________________________________________________________\n",
      "batch_normalization_8 (BatchNor (None, 16, 16, 256)  1024        conv2d_transpose_1[0][0]         \n",
      "__________________________________________________________________________________________________\n",
      "up_sampling2d_1 (UpSampling2D)  (None, 32, 32, 256)  0           add_2[0][0]                      \n",
      "__________________________________________________________________________________________________\n",
      "up_sampling2d (UpSampling2D)    (None, 32, 32, 256)  0           batch_normalization_8[0][0]      \n",
      "__________________________________________________________________________________________________\n",
      "conv2d_4 (Conv2D)               (None, 32, 32, 256)  65792       up_sampling2d_1[0][0]            \n",
      "__________________________________________________________________________________________________\n",
      "add_3 (Add)                     (None, 32, 32, 256)  0           up_sampling2d[0][0]              \n",
      "                                                                 conv2d_4[0][0]                   \n",
      "__________________________________________________________________________________________________\n",
      "activation_9 (Activation)       (None, 32, 32, 256)  0           add_3[0][0]                      \n",
      "__________________________________________________________________________________________________\n",
      "conv2d_transpose_2 (Conv2DTrans (None, 32, 32, 128)  295040      activation_9[0][0]               \n",
      "__________________________________________________________________________________________________\n",
      "batch_normalization_9 (BatchNor (None, 32, 32, 128)  512         conv2d_transpose_2[0][0]         \n",
      "__________________________________________________________________________________________________\n",
      "activation_10 (Activation)      (None, 32, 32, 128)  0           batch_normalization_9[0][0]      \n",
      "__________________________________________________________________________________________________\n",
      "conv2d_transpose_3 (Conv2DTrans (None, 32, 32, 128)  147584      activation_10[0][0]              \n",
      "__________________________________________________________________________________________________\n",
      "batch_normalization_10 (BatchNo (None, 32, 32, 128)  512         conv2d_transpose_3[0][0]         \n",
      "__________________________________________________________________________________________________\n",
      "up_sampling2d_3 (UpSampling2D)  (None, 64, 64, 256)  0           add_3[0][0]                      \n",
      "__________________________________________________________________________________________________\n",
      "up_sampling2d_2 (UpSampling2D)  (None, 64, 64, 128)  0           batch_normalization_10[0][0]     \n",
      "__________________________________________________________________________________________________\n",
      "conv2d_5 (Conv2D)               (None, 64, 64, 128)  32896       up_sampling2d_3[0][0]            \n",
      "__________________________________________________________________________________________________\n",
      "add_4 (Add)                     (None, 64, 64, 128)  0           up_sampling2d_2[0][0]            \n",
      "                                                                 conv2d_5[0][0]                   \n",
      "__________________________________________________________________________________________________\n",
      "activation_11 (Activation)      (None, 64, 64, 128)  0           add_4[0][0]                      \n",
      "__________________________________________________________________________________________________\n",
      "conv2d_transpose_4 (Conv2DTrans (None, 64, 64, 64)   73792       activation_11[0][0]              \n",
      "__________________________________________________________________________________________________\n",
      "batch_normalization_11 (BatchNo (None, 64, 64, 64)   256         conv2d_transpose_4[0][0]         \n",
      "__________________________________________________________________________________________________\n",
      "activation_12 (Activation)      (None, 64, 64, 64)   0           batch_normalization_11[0][0]     \n",
      "__________________________________________________________________________________________________\n",
      "conv2d_transpose_5 (Conv2DTrans (None, 64, 64, 64)   36928       activation_12[0][0]              \n",
      "__________________________________________________________________________________________________\n",
      "batch_normalization_12 (BatchNo (None, 64, 64, 64)   256         conv2d_transpose_5[0][0]         \n",
      "__________________________________________________________________________________________________\n",
      "up_sampling2d_5 (UpSampling2D)  (None, 128, 128, 128 0           add_4[0][0]                      \n",
      "__________________________________________________________________________________________________\n",
      "up_sampling2d_4 (UpSampling2D)  (None, 128, 128, 64) 0           batch_normalization_12[0][0]     \n",
      "__________________________________________________________________________________________________\n",
      "conv2d_6 (Conv2D)               (None, 128, 128, 64) 8256        up_sampling2d_5[0][0]            \n",
      "__________________________________________________________________________________________________\n",
      "add_5 (Add)                     (None, 128, 128, 64) 0           up_sampling2d_4[0][0]            \n",
      "                                                                 conv2d_6[0][0]                   \n",
      "__________________________________________________________________________________________________\n",
      "activation_13 (Activation)      (None, 128, 128, 64) 0           add_5[0][0]                      \n",
      "__________________________________________________________________________________________________\n",
      "conv2d_transpose_6 (Conv2DTrans (None, 128, 128, 32) 18464       activation_13[0][0]              \n",
      "__________________________________________________________________________________________________\n",
      "batch_normalization_13 (BatchNo (None, 128, 128, 32) 128         conv2d_transpose_6[0][0]         \n",
      "__________________________________________________________________________________________________\n",
      "activation_14 (Activation)      (None, 128, 128, 32) 0           batch_normalization_13[0][0]     \n",
      "__________________________________________________________________________________________________\n",
      "conv2d_transpose_7 (Conv2DTrans (None, 128, 128, 32) 9248        activation_14[0][0]              \n",
      "__________________________________________________________________________________________________\n",
      "batch_normalization_14 (BatchNo (None, 128, 128, 32) 128         conv2d_transpose_7[0][0]         \n",
      "__________________________________________________________________________________________________\n",
      "up_sampling2d_7 (UpSampling2D)  (None, 256, 256, 64) 0           add_5[0][0]                      \n",
      "__________________________________________________________________________________________________\n",
      "up_sampling2d_6 (UpSampling2D)  (None, 256, 256, 32) 0           batch_normalization_14[0][0]     \n",
      "__________________________________________________________________________________________________\n",
      "conv2d_7 (Conv2D)               (None, 256, 256, 32) 2080        up_sampling2d_7[0][0]            \n",
      "__________________________________________________________________________________________________\n",
      "add_6 (Add)                     (None, 256, 256, 32) 0           up_sampling2d_6[0][0]            \n",
      "                                                                 conv2d_7[0][0]                   \n",
      "__________________________________________________________________________________________________\n",
      "conv2d_8 (Conv2D)               (None, 256, 256, 2)  578         add_6[0][0]                      \n",
      "==================================================================================================\n",
      "Total params: 2,058,690\n",
      "Trainable params: 2,054,914\n",
      "Non-trainable params: 3,776\n",
      "__________________________________________________________________________________________________\n"
     ]
    }
   ],
   "source": [
    "# We use model from Keras documentation tutorial\n",
    "def get_model(img_size, num_classes):\n",
    "    inputs = keras.Input(shape=img_size)\n",
    "\n",
    "    ### [First half of the network: downsampling inputs] ###\n",
    "\n",
    "    # Entry block\n",
    "    x = layers.Conv2D(32, 3, strides=2, padding=\"same\")(inputs)\n",
    "    x = layers.BatchNormalization()(x)\n",
    "    x = layers.Activation(\"relu\")(x)\n",
    "\n",
    "    previous_block_activation = x  # Set aside residual\n",
    "\n",
    "    # Blocks 1, 2, 3 are identical apart from the feature depth.\n",
    "    for filters in [64, 128, 256]:\n",
    "        x = layers.Activation(\"relu\")(x)\n",
    "        x = layers.SeparableConv2D(filters, 3, padding=\"same\")(x)\n",
    "        x = layers.BatchNormalization()(x)\n",
    "\n",
    "        x = layers.Activation(\"relu\")(x)\n",
    "        x = layers.SeparableConv2D(filters, 3, padding=\"same\")(x)\n",
    "        x = layers.BatchNormalization()(x)\n",
    "\n",
    "        x = layers.MaxPooling2D(3, strides=2, padding=\"same\")(x)\n",
    "\n",
    "        # Project residual\n",
    "        residual = layers.Conv2D(filters, 1, strides=2, padding=\"same\")(\n",
    "            previous_block_activation\n",
    "        )\n",
    "        x = layers.add([x, residual])  # Add back residual\n",
    "        previous_block_activation = x  # Set aside next residual\n",
    "\n",
    "    ### [Second half of the network: upsampling inputs] ###\n",
    "\n",
    "    for filters in [256, 128, 64, 32]:\n",
    "        x = layers.Activation(\"relu\")(x)\n",
    "        x = layers.Conv2DTranspose(filters, 3, padding=\"same\")(x)\n",
    "        x = layers.BatchNormalization()(x)\n",
    "\n",
    "        x = layers.Activation(\"relu\")(x)\n",
    "        x = layers.Conv2DTranspose(filters, 3, padding=\"same\")(x)\n",
    "        x = layers.BatchNormalization()(x)\n",
    "\n",
    "        x = layers.UpSampling2D(2)(x)\n",
    "\n",
    "        # Project residual\n",
    "        residual = layers.UpSampling2D(2)(previous_block_activation)\n",
    "        residual = layers.Conv2D(filters, 1, padding=\"same\")(residual)\n",
    "        x = layers.add([x, residual])  # Add back residual\n",
    "        previous_block_activation = x  # Set aside next residual\n",
    "\n",
    "    # Add a per-pixel classification layer\n",
    "    outputs = layers.Conv2D(num_classes, 3, activation=\"softmax\", padding=\"same\")(x)\n",
    "\n",
    "    # Define the model\n",
    "    model = keras.Model(inputs, outputs)\n",
    "    return model\n",
    "\n",
    "\n",
    "# Free up RAM in case the model definition cells were run multiple times\n",
    "keras.backend.clear_session()\n",
    "\n",
    "# Build model\n",
    "model = get_model(img_size, num_classes)\n",
    "model.summary()"
   ]
  },
  {
   "cell_type": "code",
   "execution_count": 27,
   "metadata": {
    "execution": {
     "iopub.execute_input": "2023-02-08T17:23:55.954406Z",
     "iopub.status.busy": "2023-02-08T17:23:55.953162Z",
     "iopub.status.idle": "2023-02-08T17:23:55.976120Z",
     "shell.execute_reply": "2023-02-08T17:23:55.974852Z",
     "shell.execute_reply.started": "2023-02-08T17:23:55.954340Z"
    }
   },
   "outputs": [],
   "source": [
    "model.compile(optimizer=\"adam\",  loss='sparse_categorical_crossentropy')"
   ]
  },
  {
   "cell_type": "code",
   "execution_count": 28,
   "metadata": {
    "execution": {
     "iopub.execute_input": "2023-02-08T17:23:58.561490Z",
     "iopub.status.busy": "2023-02-08T17:23:58.560953Z",
     "iopub.status.idle": "2023-02-08T17:23:58.566756Z",
     "shell.execute_reply": "2023-02-08T17:23:58.565519Z",
     "shell.execute_reply.started": "2023-02-08T17:23:58.561453Z"
    }
   },
   "outputs": [],
   "source": [
    "callbacks = [keras.callbacks.ModelCheckpoint(\"watermeter_segmentation.h5\", save_best_only=True)]"
   ]
  },
  {
   "cell_type": "markdown",
   "metadata": {},
   "source": [
    "# Train model"
   ]
  },
  {
   "cell_type": "code",
   "execution_count": 18,
   "metadata": {
    "execution": {
     "iopub.execute_input": "2023-02-08T14:02:23.292172Z",
     "iopub.status.busy": "2023-02-08T14:02:23.291020Z",
     "iopub.status.idle": "2023-02-08T17:05:33.482044Z",
     "shell.execute_reply": "2023-02-08T17:05:33.480535Z",
     "shell.execute_reply.started": "2023-02-08T14:02:23.292127Z"
    }
   },
   "outputs": [
    {
     "name": "stderr",
     "output_type": "stream",
     "text": [
      "2023-02-08 14:02:24.553928: I tensorflow/compiler/mlir/mlir_graph_optimization_pass.cc:185] None of the MLIR Optimization Passes are enabled (registered 2)\n"
     ]
    },
    {
     "name": "stdout",
     "output_type": "stream",
     "text": [
      "Epoch 1/50\n",
      "32/32 [==============================] - 226s 7s/step - loss: 0.5063 - val_loss: 0.4545\n",
      "Epoch 2/50\n",
      "32/32 [==============================] - 220s 7s/step - loss: 0.0975 - val_loss: 0.1473\n",
      "Epoch 3/50\n",
      "32/32 [==============================] - 220s 7s/step - loss: 0.0651 - val_loss: 0.2341\n",
      "Epoch 4/50\n",
      "32/32 [==============================] - 219s 7s/step - loss: 0.0624 - val_loss: 0.2750\n",
      "Epoch 5/50\n",
      "32/32 [==============================] - 220s 7s/step - loss: 0.0498 - val_loss: 0.2960\n",
      "Epoch 6/50\n",
      "32/32 [==============================] - 218s 7s/step - loss: 0.0457 - val_loss: 0.3107\n",
      "Epoch 7/50\n",
      "32/32 [==============================] - 220s 7s/step - loss: 0.0421 - val_loss: 0.3335\n",
      "Epoch 8/50\n",
      "32/32 [==============================] - 219s 7s/step - loss: 0.0371 - val_loss: 0.3300\n",
      "Epoch 9/50\n",
      "32/32 [==============================] - 219s 7s/step - loss: 0.0334 - val_loss: 0.3433\n",
      "Epoch 10/50\n",
      "32/32 [==============================] - 219s 7s/step - loss: 0.0318 - val_loss: 0.3537\n",
      "Epoch 11/50\n",
      "32/32 [==============================] - 219s 7s/step - loss: 0.0298 - val_loss: 0.3549\n",
      "Epoch 12/50\n",
      "32/32 [==============================] - 218s 7s/step - loss: 0.0265 - val_loss: 0.3575\n",
      "Epoch 13/50\n",
      "32/32 [==============================] - 219s 7s/step - loss: 0.0236 - val_loss: 0.3315\n",
      "Epoch 14/50\n",
      "32/32 [==============================] - 218s 7s/step - loss: 0.0217 - val_loss: 0.2800\n",
      "Epoch 15/50\n",
      "32/32 [==============================] - 219s 7s/step - loss: 0.0200 - val_loss: 0.2395\n",
      "Epoch 16/50\n",
      "32/32 [==============================] - 219s 7s/step - loss: 0.0198 - val_loss: 0.1857\n",
      "Epoch 17/50\n",
      "32/32 [==============================] - 219s 7s/step - loss: 0.0209 - val_loss: 0.1371\n",
      "Epoch 18/50\n",
      "32/32 [==============================] - 219s 7s/step - loss: 0.0179 - val_loss: 0.1065\n",
      "Epoch 19/50\n",
      "32/32 [==============================] - 219s 7s/step - loss: 0.0146 - val_loss: 0.0787\n",
      "Epoch 20/50\n",
      "32/32 [==============================] - 220s 7s/step - loss: 0.0140 - val_loss: 0.0528\n",
      "Epoch 21/50\n",
      "32/32 [==============================] - 219s 7s/step - loss: 0.0233 - val_loss: 0.0400\n",
      "Epoch 22/50\n",
      "32/32 [==============================] - 219s 7s/step - loss: 0.0147 - val_loss: 0.0400\n",
      "Epoch 23/50\n",
      "32/32 [==============================] - 218s 7s/step - loss: 0.0116 - val_loss: 0.0359\n",
      "Epoch 24/50\n",
      "32/32 [==============================] - 220s 7s/step - loss: 0.0116 - val_loss: 0.0390\n",
      "Epoch 25/50\n",
      "32/32 [==============================] - 219s 7s/step - loss: 0.0102 - val_loss: 0.0363\n",
      "Epoch 26/50\n",
      "32/32 [==============================] - 219s 7s/step - loss: 0.0098 - val_loss: 0.0410\n",
      "Epoch 27/50\n",
      "32/32 [==============================] - 220s 7s/step - loss: 0.0092 - val_loss: 0.0397\n",
      "Epoch 28/50\n",
      "32/32 [==============================] - 218s 7s/step - loss: 0.0086 - val_loss: 0.0454\n",
      "Epoch 29/50\n",
      "32/32 [==============================] - 220s 7s/step - loss: 0.0083 - val_loss: 0.0429\n",
      "Epoch 30/50\n",
      "32/32 [==============================] - 219s 7s/step - loss: 0.0135 - val_loss: 0.0388\n",
      "Epoch 31/50\n",
      "32/32 [==============================] - 219s 7s/step - loss: 0.0088 - val_loss: 0.0375\n",
      "Epoch 32/50\n",
      "32/32 [==============================] - 220s 7s/step - loss: 0.0088 - val_loss: 0.0463\n",
      "Epoch 33/50\n",
      "32/32 [==============================] - 219s 7s/step - loss: 0.0083 - val_loss: 0.0443\n",
      "Epoch 34/50\n",
      "32/32 [==============================] - 219s 7s/step - loss: 0.0070 - val_loss: 0.0422\n",
      "Epoch 35/50\n",
      "32/32 [==============================] - 219s 7s/step - loss: 0.0065 - val_loss: 0.0495\n",
      "Epoch 36/50\n",
      "32/32 [==============================] - 219s 7s/step - loss: 0.0069 - val_loss: 0.0461\n",
      "Epoch 37/50\n",
      "32/32 [==============================] - 221s 7s/step - loss: 0.0061 - val_loss: 0.0457\n",
      "Epoch 38/50\n",
      "32/32 [==============================] - 219s 7s/step - loss: 0.0062 - val_loss: 0.0398\n",
      "Epoch 39/50\n",
      "32/32 [==============================] - 219s 7s/step - loss: 0.0057 - val_loss: 0.0415\n",
      "Epoch 40/50\n",
      "32/32 [==============================] - 219s 7s/step - loss: 0.0066 - val_loss: 0.0410\n",
      "Epoch 41/50\n",
      "32/32 [==============================] - 219s 7s/step - loss: 0.0064 - val_loss: 0.1048\n",
      "Epoch 42/50\n",
      "32/32 [==============================] - 218s 7s/step - loss: 0.0333 - val_loss: 0.0611\n",
      "Epoch 43/50\n",
      "32/32 [==============================] - 220s 7s/step - loss: 0.0176 - val_loss: 0.0436\n",
      "Epoch 44/50\n",
      "32/32 [==============================] - 227s 7s/step - loss: 0.0138 - val_loss: 0.0478\n",
      "Epoch 45/50\n",
      "32/32 [==============================] - 221s 7s/step - loss: 0.0099 - val_loss: 0.0411\n",
      "Epoch 46/50\n",
      "32/32 [==============================] - 219s 7s/step - loss: 0.0075 - val_loss: 0.0358\n",
      "Epoch 47/50\n",
      "32/32 [==============================] - 220s 7s/step - loss: 0.0065 - val_loss: 0.0367\n",
      "Epoch 48/50\n",
      "32/32 [==============================] - 229s 7s/step - loss: 0.0063 - val_loss: 0.0403\n",
      "Epoch 49/50\n",
      "32/32 [==============================] - 224s 7s/step - loss: 0.0057 - val_loss: 0.0430\n",
      "Epoch 50/50\n",
      "32/32 [==============================] - 220s 7s/step - loss: 0.0059 - val_loss: 0.0424\n"
     ]
    }
   ],
   "source": [
    "history = model.fit(\n",
    "   x=X_train,\n",
    "   y=y_train,\n",
    "   batch_size=32,\n",
    "   epochs=50,\n",
    "   validation_data=(X_test, y_test),\n",
    ")"
   ]
  },
  {
   "cell_type": "code",
   "execution_count": 25,
   "metadata": {
    "execution": {
     "iopub.execute_input": "2023-02-08T17:20:57.615493Z",
     "iopub.status.busy": "2023-02-08T17:20:57.615040Z",
     "iopub.status.idle": "2023-02-08T17:20:57.621516Z",
     "shell.execute_reply": "2023-02-08T17:20:57.620583Z",
     "shell.execute_reply.started": "2023-02-08T17:20:57.615444Z"
    }
   },
   "outputs": [],
   "source": [
    "def get_config(self):\n",
    "    config={\"kernel_size\": self.kernel_size,\"filter\":self.filter}\n",
    "    base_config=super(MyLayer,self).get_config()\n",
    "    return dict(list(base_config.items())+list(config.items()))\n"
   ]
  },
  {
   "cell_type": "code",
   "execution_count": 30,
   "metadata": {
    "execution": {
     "iopub.execute_input": "2023-02-08T17:24:18.882367Z",
     "iopub.status.busy": "2023-02-08T17:24:18.881935Z",
     "iopub.status.idle": "2023-02-08T17:24:19.028107Z",
     "shell.execute_reply": "2023-02-08T17:24:19.026696Z",
     "shell.execute_reply.started": "2023-02-08T17:24:18.882332Z"
    }
   },
   "outputs": [],
   "source": [
    "model.save('./water_model_new.h5')"
   ]
  },
  {
   "cell_type": "code",
   "execution_count": null,
   "metadata": {},
   "outputs": [],
   "source": [
    "# raise NotebookFinished"
   ]
  },
  {
   "cell_type": "code",
   "execution_count": 34,
   "metadata": {
    "execution": {
     "iopub.execute_input": "2023-02-08T17:25:05.831551Z",
     "iopub.status.busy": "2023-02-08T17:25:05.831124Z",
     "iopub.status.idle": "2023-02-08T17:25:06.477089Z",
     "shell.execute_reply": "2023-02-08T17:25:06.475880Z",
     "shell.execute_reply.started": "2023-02-08T17:25:05.831517Z"
    }
   },
   "outputs": [],
   "source": [
    "model = keras.models.load_model('./water_model_new.h5')"
   ]
  },
  {
   "cell_type": "code",
   "execution_count": 36,
   "metadata": {
    "execution": {
     "iopub.execute_input": "2023-02-08T17:26:36.847299Z",
     "iopub.status.busy": "2023-02-08T17:26:36.846789Z",
     "iopub.status.idle": "2023-02-08T17:26:36.854508Z",
     "shell.execute_reply": "2023-02-08T17:26:36.853077Z",
     "shell.execute_reply.started": "2023-02-08T17:26:36.847259Z"
    }
   },
   "outputs": [
    {
     "name": "stdout",
     "output_type": "stream",
     "text": [
      "<class 'keras.engine.functional.Functional'>\n"
     ]
    }
   ],
   "source": [
    "print(type(model))"
   ]
  },
  {
   "cell_type": "markdown",
   "metadata": {},
   "source": [
    "# Evaluate results"
   ]
  },
  {
   "cell_type": "code",
   "execution_count": 39,
   "metadata": {
    "execution": {
     "iopub.execute_input": "2023-02-08T17:32:32.048429Z",
     "iopub.status.busy": "2023-02-08T17:32:32.047305Z",
     "iopub.status.idle": "2023-02-08T17:32:33.418288Z",
     "shell.execute_reply": "2023-02-08T17:32:33.416960Z",
     "shell.execute_reply.started": "2023-02-08T17:32:32.048365Z"
    }
   },
   "outputs": [
    {
     "data": {
      "text/plain": [
       "<matplotlib.image.AxesImage at 0x7ff36866bc10>"
      ]
     },
     "execution_count": 39,
     "metadata": {},
     "output_type": "execute_result"
    },
    {
     "data": {
      "image/png": "[encoded data removed]",
      "text/plain": [
       "<Figure size 432x288 with 1 Axes>"
      ]
     },
     "metadata": {
      "needs_background": "light"
     },
     "output_type": "display_data"
    }
   ],
   "source": [
    "def image_extract(img_path):\n",
    "    # Read image\n",
    "    img = cv2.imread(img_path).astype('float32')\n",
    "    \n",
    "    # Resize image for our model\n",
    "    img_pred = cv2.resize(img, (256,256))\n",
    "    img_pred = img_pred.reshape(-1, 256, 256, 3)\n",
    "    \n",
    "    # Predict mask\n",
    "    val_preds = model.predict(img_pred)\n",
    "    \n",
    "    # Resize output\n",
    "    mask = np.argmax(val_preds[0], axis=-1)\n",
    "    mask = np.expand_dims(mask, axis=-1)\n",
    "    mask = ImageOps.autocontrast(keras.preprocessing.image.array_to_img(mask))\n",
    "    \n",
    "    mask = np.array(mask).astype('uint8')\n",
    "\n",
    "    # Resize mask\n",
    "    h, w, _ = img.shape\n",
    "    mask = cv2.resize(mask, (w, h))\n",
    "    bg = np.zeros_like(img, 'uint8')\n",
    "    \n",
    "    # Extract part with digits\n",
    "    fg = cv2.bitwise_or(img, img, mask=mask) \n",
    "    fg_back_inv = cv2.bitwise_or(bg, bg, mask=cv2.bitwise_not(mask)).astype('float32')\n",
    "    \n",
    "    New_image = cv2.bitwise_or(fg, fg_back_inv)\n",
    "\n",
    "    # Extract rectangle coords that contains mask\n",
    "    where = np.array(np.where(New_image))\n",
    "    x1, y1, z1 = np.amin(where, axis=1)\n",
    "    x2, y2, z2 = np.amax(where, axis=1)\n",
    "    \n",
    "    # img.astype('uint8')[x1:x2, y1:y2] for picture without mask\n",
    "    # New_image.astype('uint8')[x1:x2, y1:y2] for picture with mask\n",
    "    sub_image = img.astype('uint8')[x1:x2, y1:y2]\n",
    "    \n",
    "    return sub_image\n",
    "\n",
    "# Run our function on a test data\n",
    "test_img_path = '../input/yandextoloka-water-meters-dataset/WaterMeters/images/id_1000_value_176_881.jpg'\n",
    "\n",
    "sample_image = image_extract(test_img_path) \n",
    "\n",
    "# Show results\n",
    "plt.imshow(sample_image)"
   ]
  },
  {
   "cell_type": "markdown",
   "metadata": {},
   "source": [
    "# Extract panels"
   ]
  },
  {
   "cell_type": "code",
   "execution_count": 41,
   "metadata": {
    "execution": {
     "iopub.execute_input": "2023-02-08T17:32:51.092081Z",
     "iopub.status.busy": "2023-02-08T17:32:51.090893Z",
     "iopub.status.idle": "2023-02-08T17:32:51.120883Z",
     "shell.execute_reply": "2023-02-08T17:32:51.119068Z",
     "shell.execute_reply.started": "2023-02-08T17:32:51.092031Z"
    }
   },
   "outputs": [
    {
     "ename": "FileExistsError",
     "evalue": "[Errno 17] File exists: './masked'",
     "output_type": "error",
     "traceback": [
      "\u001b[0;31m---------------------------------------------------------------------------\u001b[0m",
      "\u001b[0;31mFileExistsError\u001b[0m                           Traceback (most recent call last)",
      "\u001b[0;32m/tmp/ipykernel_27/3603390913.py\u001b[0m in \u001b[0;36m<module>\u001b[0;34m\u001b[0m\n\u001b[1;32m      1\u001b[0m \u001b[0;31m# Create directories to save output\u001b[0m\u001b[0;34m\u001b[0m\u001b[0;34m\u001b[0m\u001b[0;34m\u001b[0m\u001b[0m\n\u001b[0;32m----> 2\u001b[0;31m \u001b[0mos\u001b[0m\u001b[0;34m.\u001b[0m\u001b[0mmkdir\u001b[0m\u001b[0;34m(\u001b[0m\u001b[0;34m'./masked'\u001b[0m\u001b[0;34m)\u001b[0m\u001b[0;34m\u001b[0m\u001b[0;34m\u001b[0m\u001b[0m\n\u001b[0m\u001b[1;32m      3\u001b[0m \u001b[0mSAVE_FOLDER\u001b[0m \u001b[0;34m=\u001b[0m \u001b[0;34m'./masked'\u001b[0m\u001b[0;34m\u001b[0m\u001b[0;34m\u001b[0m\u001b[0m\n",
      "\u001b[0;31mFileExistsError\u001b[0m: [Errno 17] File exists: './masked'"
     ]
    }
   ],
   "source": [
    "# Create directories to save output\n",
    "os.mkdir('./masked')\n",
    "SAVE_FOLDER = './masked'"
   ]
  },
  {
   "cell_type": "code",
   "execution_count": null,
   "metadata": {
    "execution": {
     "iopub.execute_input": "2022-11-13T17:21:26.247412Z",
     "iopub.status.busy": "2022-11-13T17:21:26.246921Z",
     "iopub.status.idle": "2022-11-13T17:21:26.257305Z",
     "shell.execute_reply": "2022-11-13T17:21:26.2562Z",
     "shell.execute_reply.started": "2022-11-13T17:21:26.247377Z"
    }
   },
   "outputs": [],
   "source": [
    "# shutil.rmtree(SAVE_FOLDER)"
   ]
  },
  {
   "cell_type": "code",
   "execution_count": 42,
   "metadata": {
    "execution": {
     "iopub.execute_input": "2023-02-08T17:32:58.039111Z",
     "iopub.status.busy": "2023-02-08T17:32:58.038680Z",
     "iopub.status.idle": "2023-02-08T17:37:55.039054Z",
     "shell.execute_reply": "2023-02-08T17:37:55.037776Z",
     "shell.execute_reply.started": "2023-02-08T17:32:58.039074Z"
    }
   },
   "outputs": [
    {
     "name": "stderr",
     "output_type": "stream",
     "text": [
      "  1%|▏         | 16/1244 [00:03<04:32,  4.50it/s]"
     ]
    },
    {
     "name": "stdout",
     "output_type": "stream",
     "text": [
      "id_749_value_88_113.jpg\n"
     ]
    },
    {
     "name": "stderr",
     "output_type": "stream",
     "text": [
      "  4%|▍         | 52/1244 [00:11<04:42,  4.22it/s]"
     ]
    },
    {
     "name": "stdout",
     "output_type": "stream",
     "text": [
      "id_62_value_367_401.jpg\n"
     ]
    },
    {
     "name": "stderr",
     "output_type": "stream",
     "text": [
      "  6%|▌         | 70/1244 [00:16<04:24,  4.43it/s]"
     ]
    },
    {
     "name": "stdout",
     "output_type": "stream",
     "text": [
      "id_1137_value_704_175.jpg\n"
     ]
    },
    {
     "name": "stderr",
     "output_type": "stream",
     "text": [
      " 14%|█▍        | 180/1244 [00:41<03:49,  4.64it/s]"
     ]
    },
    {
     "name": "stdout",
     "output_type": "stream",
     "text": [
      "id_770_value_738_941.jpg\n"
     ]
    },
    {
     "name": "stderr",
     "output_type": "stream",
     "text": [
      " 17%|█▋        | 216/1244 [00:49<03:50,  4.46it/s]"
     ]
    },
    {
     "name": "stdout",
     "output_type": "stream",
     "text": [
      "id_899_value_39_44.jpg\n"
     ]
    },
    {
     "name": "stderr",
     "output_type": "stream",
     "text": [
      " 18%|█▊        | 230/1244 [00:52<03:43,  4.53it/s]"
     ]
    },
    {
     "name": "stdout",
     "output_type": "stream",
     "text": [
      "id_330_value_18_622.jpg\n"
     ]
    },
    {
     "name": "stderr",
     "output_type": "stream",
     "text": [
      " 24%|██▍       | 297/1244 [01:10<03:52,  4.07it/s]"
     ]
    },
    {
     "name": "stdout",
     "output_type": "stream",
     "text": [
      "id_880_value_462_079.jpg\n"
     ]
    },
    {
     "name": "stderr",
     "output_type": "stream",
     "text": [
      " 32%|███▏      | 396/1244 [01:34<03:18,  4.28it/s]"
     ]
    },
    {
     "name": "stdout",
     "output_type": "stream",
     "text": [
      "id_503_value_1542_432.jpg\n"
     ]
    },
    {
     "name": "stderr",
     "output_type": "stream",
     "text": [
      " 43%|████▎     | 536/1244 [02:07<02:43,  4.34it/s]"
     ]
    },
    {
     "name": "stdout",
     "output_type": "stream",
     "text": [
      "id_1156_value_61_991.jpg\n"
     ]
    },
    {
     "name": "stderr",
     "output_type": "stream",
     "text": [
      " 46%|████▋     | 576/1244 [02:16<02:41,  4.15it/s]"
     ]
    },
    {
     "name": "stdout",
     "output_type": "stream",
     "text": [
      "id_1161_value_71_024.jpg\n"
     ]
    },
    {
     "name": "stderr",
     "output_type": "stream",
     "text": [
      " 49%|████▊     | 606/1244 [02:23<02:36,  4.08it/s]"
     ]
    },
    {
     "name": "stdout",
     "output_type": "stream",
     "text": [
      "id_496_value_173_242.jpg\n"
     ]
    },
    {
     "name": "stderr",
     "output_type": "stream",
     "text": [
      " 51%|█████     | 629/1244 [02:29<02:23,  4.29it/s]"
     ]
    },
    {
     "name": "stdout",
     "output_type": "stream",
     "text": [
      "id_162_value_36_022.jpg\n"
     ]
    },
    {
     "name": "stderr",
     "output_type": "stream",
     "text": [
      " 56%|█████▌    | 695/1244 [02:44<02:07,  4.30it/s]"
     ]
    },
    {
     "name": "stdout",
     "output_type": "stream",
     "text": [
      "id_471_value_29_41.jpg\n"
     ]
    },
    {
     "name": "stderr",
     "output_type": "stream",
     "text": [
      " 63%|██████▎   | 781/1244 [03:05<01:50,  4.18it/s]"
     ]
    },
    {
     "name": "stdout",
     "output_type": "stream",
     "text": [
      "id_793_value_485_422.jpg\n"
     ]
    },
    {
     "name": "stderr",
     "output_type": "stream",
     "text": [
      " 64%|██████▎   | 792/1244 [03:08<01:52,  4.03it/s]"
     ]
    },
    {
     "name": "stdout",
     "output_type": "stream",
     "text": [
      "id_457_value_11_787.jpg\n"
     ]
    },
    {
     "name": "stderr",
     "output_type": "stream",
     "text": [
      " 66%|██████▌   | 821/1244 [03:15<01:38,  4.31it/s]"
     ]
    },
    {
     "name": "stdout",
     "output_type": "stream",
     "text": [
      "id_833_value_431_42.jpg\n"
     ]
    },
    {
     "name": "stderr",
     "output_type": "stream",
     "text": [
      " 74%|███████▍  | 919/1244 [03:39<01:16,  4.25it/s]"
     ]
    },
    {
     "name": "stdout",
     "output_type": "stream",
     "text": [
      "id_1216_value_362_741.jpg\n"
     ]
    },
    {
     "name": "stderr",
     "output_type": "stream",
     "text": [
      " 90%|████████▉ | 1116/1244 [04:25<00:29,  4.39it/s]"
     ]
    },
    {
     "name": "stdout",
     "output_type": "stream",
     "text": [
      "id_51_value_93_534.jpg\n"
     ]
    },
    {
     "name": "stderr",
     "output_type": "stream",
     "text": [
      " 94%|█████████▍| 1168/1244 [04:38<00:18,  4.16it/s]"
     ]
    },
    {
     "name": "stdout",
     "output_type": "stream",
     "text": [
      "id_1169_value_424_743.jpg\n"
     ]
    },
    {
     "name": "stderr",
     "output_type": "stream",
     "text": [
      " 96%|█████████▌| 1194/1244 [04:44<00:11,  4.38it/s]"
     ]
    },
    {
     "name": "stdout",
     "output_type": "stream",
     "text": [
      "id_712_value_267_531.jpg\n"
     ]
    },
    {
     "name": "stderr",
     "output_type": "stream",
     "text": [
      " 98%|█████████▊| 1218/1244 [04:50<00:06,  4.10it/s]"
     ]
    },
    {
     "name": "stdout",
     "output_type": "stream",
     "text": [
      "id_848_value_214_842.jpg\n"
     ]
    },
    {
     "name": "stderr",
     "output_type": "stream",
     "text": [
      "100%|█████████▉| 1241/1244 [04:56<00:00,  3.91it/s]"
     ]
    },
    {
     "name": "stdout",
     "output_type": "stream",
     "text": [
      "id_306_value_158_719.jpg\n"
     ]
    },
    {
     "name": "stderr",
     "output_type": "stream",
     "text": [
      "100%|██████████| 1244/1244 [04:56<00:00,  4.19it/s]\n"
     ]
    }
   ],
   "source": [
    "def mask_all_images():\n",
    "    for image_name in tqdm(os.listdir(images_folder)):\n",
    "        # Create path for reading image and for saving results\n",
    "        image_path = os.path.join(images_folder, image_name)\n",
    "        img_save_path = os.path.join(SAVE_FOLDER, image_name + '_masked')\n",
    "        \n",
    "        try:\n",
    "            # For some reason some pictures raise error during image extraction\n",
    "            image_cropped = image_extract(image_path)\n",
    "            cv2.imwrite(img_save_path, image_cropped)\n",
    "        except Exception as e:\n",
    "            print(image_name)  \n",
    "          \n",
    "mask_all_images()"
   ]
  }
 ],
 "metadata": {
  "kernelspec": {
   "display_name": "Python 3 (ipykernel)",
   "language": "python",
   "name": "python3"
  },
  "language_info": {
   "codemirror_mode": {
    "name": "ipython",
    "version": 3
   },
   "file_extension": ".py",
   "mimetype": "text/x-python",
   "name": "python",
   "nbconvert_exporter": "python",
   "pygments_lexer": "ipython3",
   "version": "3.11.2"
  }
 },
 "nbformat": 4,
 "nbformat_minor": 4
}
